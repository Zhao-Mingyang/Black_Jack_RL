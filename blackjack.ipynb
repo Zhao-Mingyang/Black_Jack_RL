{
 "cells": [
  {
   "cell_type": "code",
   "execution_count": 1,
   "id": "vulnerable-faculty",
   "metadata": {},
   "outputs": [],
   "source": [
    "import pandas as pd\n",
    "import random\n",
    "import numpy as np\n",
    "import copy\n",
    "\n",
    "class Deck():\n",
    "    def __init__(self, num_deck=1, is_black_jack = True):\n",
    "        # num_decks = 0 means infinite number of decks and the pick up is with replacement\n",
    "        self.contents = [(2, 'Diamonds'), (2, 'Hearts'), (2, 'Clubs'), (2, 'Spades'), (3, 'Diamonds'), (3, 'Hearts'),\\\n",
    "                         (3, 'Clubs'), (3, 'Spades'), (4, 'Diamonds'), (4, 'Hearts'), (4, 'Clubs'), (4, 'Spades'),\\\n",
    "                         (5, 'Diamonds'), (5, 'Hearts'), (5, 'Clubs'), (5, 'Spades'), (6, 'Diamonds'), (6, 'Hearts'),\\\n",
    "                         (6, 'Clubs'), (6, 'Spades'), (7, 'Diamonds'), (7, 'Hearts'), (2, 'Clubs'), '7 of Spades',\\\n",
    "                         (8, 'Diamonds'), (8, 'Hearts'), (8, 'Clubs'), (8, 'Spades'), (9, 'Diamonds'), (9, 'Hearts'),\\\n",
    "                         (9, 'Clubs'), (9, 'Spades'), (10, 'Diamonds'), (10, 'Hearts'), (10, 'Clubs'), (10, 'Spades'),\\\n",
    "                         (11, 'Diamonds'), (11, 'Hearts'), (11, 'Clubs'), (11, 'Spades'), (12, 'Diamonds'),\\\n",
    "                         (12, 'Hearts'), (12, 'Clubs'), (12, 'Spades'), (13, 'Diamonds'), (13, 'Hearts'),\\\n",
    "                         (13, 'Clubs'), (13, 'Spades'), (1, 'Diamonds'), (1, 'Hearts'), (1, 'Clubs'),\\\n",
    "                         (1, 'Spades')]\n",
    "        if num_deck is not 0:\n",
    "            self.decks = [self.contents for _ in range(num_deck)]\n",
    "            self.decks = list(np.concatenate(self.decks, axis=0))\n",
    "        else:\n",
    "            self.decks = list(self.contents)\n",
    "        self.num_deck = num_deck\n",
    "        self.is_black_jack = is_black_jack\n",
    "\n",
    "    def shuffle(self):\n",
    "        # shuffle the cards\n",
    "        random.shuffle(self.decks)\n",
    "    \n",
    "    def reset(self):\n",
    "        self.decks = list(self.contents)\n",
    "        random.shuffle(self.decks)\n",
    "\n",
    "    def pop(self):\n",
    "        # pop the top card out and hand it to the player\n",
    "        card = self.decks.pop(0)\n",
    "        if self.is_black_jack and int(card[0])>10:\n",
    "            card = (10, card[1])\n",
    "        # for num_deck = 0, pick up with replacement\n",
    "        if self.num_deck == 0:\n",
    "            self.reset()\n",
    "        return card\n",
    "    \n",
    "card_possibility = {1:4/52, 2:4/52, 3:4/52, 4:4/52, 5:4/52, 6:4/52, 7:4/52, 8:4/52, 9:4/52, 10:16/52}"
   ]
  },
  {
   "cell_type": "code",
   "execution_count": 2,
   "id": "starting-screening",
   "metadata": {},
   "outputs": [],
   "source": [
    "def total(hand):\n",
    "    total = 0\n",
    "    for card in hand:\n",
    "        if card >=10:\n",
    "            total+= 10\n",
    "        elif card == 1:\n",
    "            if total >= 11: \n",
    "                total+= 1\n",
    "            else: \n",
    "                total+= 11\n",
    "        else:\n",
    "            total += card\n",
    "    return total\n",
    "\n",
    "\n",
    "def card_dic_2_possibility(card_dic):\n",
    "    card_possibility = {1:4/52, 2:4/52, 3:4/52, 4:4/52, 5:4/52, 6:4/52, 7:4/52, 8:4/52, 9:4/52, 10:16/52, 12:4/52, 13:4/52}\n",
    "    num_of_cards = sum(card_dic.values())\n",
    "    for the_key in card_dic.keys():\n",
    "#         if the_key>=10:\n",
    "#             card_possibility[10]+= card_dic[the_key]/num_of_cards\n",
    "#         else:\n",
    "        card_possibility[the_key] = card_dic[the_key]/num_of_cards\n",
    "    return card_possibility\n",
    "        \n",
    "    \n",
    "\n",
    "def state_transition_pos(state, next_state, card_possibility):\n",
    "    if next_state - state==11:\n",
    "        return card_possibility['1']\n",
    "    else:\n",
    "        return card_possibility[next_state-state]\n",
    "    \n",
    "def explosion_pos(state, card_possibility):\n",
    "    the_indexs = [the_key for the_key in card_possibility.keys() if the_key > (22 - state)]\n",
    "    possibility = 0\n",
    "    for the_key in the_indexs:\n",
    "        possibility += card_possibility[the_key]\n",
    "    return possibility\n",
    "        \n",
    "    \n",
    "class agent():\n",
    "    def __init__(self):\n",
    "        self.hand=[]\n",
    "        self.card_dic={1:4, 2:4, 3:4, 4:4, 5:4, 6:4, 7:4, 8:4, 9:4, 10:4, 11:4, 12:4, 13:4}\n",
    "        \n",
    "    def hit(self, card):\n",
    "        self.card_dic[card[1]] -=1\n",
    "        self.hand.append(card)\n",
    "        return hand"
   ]
  },
  {
   "cell_type": "code",
   "execution_count": 3,
   "id": "selected-prince",
   "metadata": {},
   "outputs": [],
   "source": [
    "def dealer_exploration_1card(state, next_state, card_possibility):\n",
    "    if next_state - state > 11:\n",
    "         return 0\n",
    "    elif next_state - state==11:\n",
    "        return card_possibility['1']\n",
    "    else:\n",
    "        return card_possibility[next_state-state]\n",
    "\n",
    "def dealer_exploration_2card(state, next_state, card_dic):\n",
    "    the_indexs = [the_key for the_key in card_dic.keys()]\n",
    "    results = []\n",
    "    sum_pos = 0\n",
    "    for i in the_indexs:\n",
    "        for ii in the_indexs:\n",
    "            if i + ii == (next_state-state):\n",
    "                results.append((i,ii))\n",
    "    for combination in results:\n",
    "        temp = copy.deepcopy(card_dic)\n",
    "        if temp[combination[0]] > 1:\n",
    "            temp[combination[0]] -= 1\n",
    "            if temp[combination[1]] > 1:\n",
    "                pre_card_possibility = card_dic_2_possibility(card_dic)\n",
    "                card_possibility = card_dic_2_possibility(temp)\n",
    "                sum_pos += pre_card_possibility[combination[0]] * card_possibility[combination[1]]\n",
    "                \n",
    "        \n",
    "    \n",
    "# def compute_exp_return"
   ]
  },
  {
   "cell_type": "code",
   "execution_count": 12,
   "id": "opponent-frost",
   "metadata": {},
   "outputs": [],
   "source": [
    "the_list = []\n",
    "def dealer_tree(root, total_value, new_card,probability_father, probability, card_dic):\n",
    "    if root + total_value >= 17:\n",
    "        return_probability = copy.deepcopy(probability)\n",
    "#         if new_card>10:\n",
    "#             index = 10\n",
    "#         else:\n",
    "        index = new_card\n",
    "        if root + total_value > 21:\n",
    "            return_probability[-1] = probability_father\n",
    "        else:\n",
    "            return_probability[root + total_value-17] = probability_father\n",
    "#         print(return_probability, probability_father, root + total_value)\n",
    "        the_list.append(return_probability)\n",
    "        return return_probability\n",
    "    else:\n",
    "        for i in range(1, 14):\n",
    "            return_probability = copy.deepcopy(probability)\n",
    "            temp_card_dic = copy.deepcopy(card_dic)\n",
    "            if i < 10:\n",
    "                index =i\n",
    "                if i == 1 and root + total_value + 11 <= 21:\n",
    "                    index = 11\n",
    "            else:\n",
    "                index = 10\n",
    "            p = probability_father * card_dic_2_possibility(card_dic)[i]\n",
    "#             print('p',p)\n",
    "            temp_card_dic[i] -= 1 \n",
    "            dealer_tree(root, total_value + index, i, p, return_probability,temp_card_dic)"
   ]
  },
  {
   "cell_type": "code",
   "execution_count": 13,
   "id": "sporting-pursuit",
   "metadata": {},
   "outputs": [
    {
     "name": "stdout",
     "output_type": "stream",
     "text": [
      "0.13686463950085448 0.13682908636338428 0.12838842017234117 0.12492734458098267 0.16720358621088036 0.3057869231715582\n",
      "0.13473832373192635 0.12731579456808595 0.1272707613455436 0.11929392965739376 0.11597212811067174 0.3754090625863796\n",
      "0.12643738276854233 0.12657180965095952 0.11928607274643292 0.11885126743866382 0.11140841971210734 0.39744504768329647\n",
      "0.1269431864804342 0.10999597787890625 0.11701622176097631 0.11205456544336158 0.11087950927876979 0.42311053915755337\n",
      "0.1158896813007152 0.11926595396005142 0.11257121250092281 0.10049713278073259 0.10239210588317779 0.4493839135744026\n",
      "0.16694766812059422 0.10645402905927319 0.10719186053213829 0.1007049316666462 0.09787847663196507 0.4208230339893839\n",
      "0.3723448664078644 0.1385833815487343 0.07733443127482263 0.0788966658716112 0.07298698778514384 0.2598536671118236\n",
      "0.13085746416975672 0.36298936571236573 0.12944463829318353 0.0682897637624276 0.06979142147145628 0.23862734659081034\n",
      "0.12188622720133381 0.10392095413558577 0.35739125005537214 0.12225027908172217 0.06110882959412567 0.23344245993186055\n",
      "0.1144181928090385 0.11287896102011571 0.11466240520259907 0.32887909897230555 0.11489750633525073 0.21426383566069046\n",
      "0.1128628472665662 0.1144181928090385 0.11313103964990251 0.11472367670472444 0.32909742620452437 0.21576681736524406\n"
     ]
    }
   ],
   "source": [
    "for known in range(1,12):\n",
    "    the_list = []\n",
    "    full_deck = {1:4, 2:4, 3:4, 4:4, 5:4, 6:4, 7:4, 8:4, 9:4, 10:4, 11:4, 12:4, 13:4}\n",
    "    full_deck[known] -= 1\n",
    "    dealer_tree(known, 0 , 0, 1, [0, 0, 0, 0, 0, 0], full_deck)\n",
    "    sum1=0\n",
    "    sum2=0\n",
    "    sum3=0\n",
    "    sum4=0\n",
    "    sum5=0\n",
    "    sum6=0\n",
    "    for i in range(len(the_list)):\n",
    "        sum1 += the_list[i][0]\n",
    "        sum2 += the_list[i][1]\n",
    "        sum3 += the_list[i][2]\n",
    "        sum4 += the_list[i][3]\n",
    "        sum5 += the_list[i][4]\n",
    "        sum6 += the_list[i][5]\n",
    "    print(sum1, sum2, sum3, sum4, sum5, sum6)"
   ]
  },
  {
   "cell_type": "markdown",
   "id": "comic-packaging",
   "metadata": {},
   "source": [
    "|  | $17 $ | $ 18 $ | $ 19 $ |$ 20 $ | $ 21 $ | $ >21 $ \n",
    "| :-: | :-: | :-: | :-: | :-: | :-: | :-: | \n",
    "|$D$ = 1|0.13686463950085448 | 0.13682908636338428 | 0.12838842017234117 | 0.12492734458098267 | 0.16720358621088036 | 0.3057869231715582\n",
    "|$D$ = 2| 0.13473832373192635 | 0.12731579456808595 | 0.1272707613455436 | 0.11929392965739376 | 0.11597212811067174 | 0.3754090625863796\n",
    "|$D$ = 3| 0.12643738276854233 | 0.12657180965095952 | 0.11928607274643292 | 0.11885126743866382 | 0.11140841971210734 | 0.39744504768329647\n",
    "|$D$ = 4| 0.1269431864804342 | 0.10999597787890625 | 0.11701622176097631 | 0.11205456544336158 | 0.11087950927876979 | 0.42311053915755337\n",
    "|$D$ = 5| 0.1158896813007152 | 0.11926595396005142 | 0.11257121250092281 | 0.10049713278073259 | 0.10239210588317779 | 0.4493839135744026\n",
    "|$D$ = 6| 0.16694766812059422 | 0.10645402905927319 | 0.10719186053213829 | 0.1007049316666462 | 0.09787847663196507 | 0.4208230339893839\n",
    "|$D$ = 7| 0.3723448664078644 | 0.1385833815487343 | 0.07733443127482263 | 0.0788966658716112 | 0.07298698778514384 | 0.2598536671118236\n",
    "|$D$ = 8| 0.13085746416975672 | 0.36298936571236573 | 0.12944463829318353 | 0.0682897637624276 | 0.06979142147145628 | 0.23862734659081034\n",
    "|$D$ = 9| 0.12188622720133381 | 0.10392095413558577 | 0.35739125005537214 | 0.12225027908172217 | 0.06110882959412567 | 0.23344245993186055\n",
    "|$D$ = 10| 0.1144181928090385 | 0.11287896102011571 | 0.11466240520259907 | 0.32887909897230555 | 0.11489750633525073 | 0.21426383566069046\n",
    "|$D$ = 11| 0.1128628472665662 | 0.1144181928090385 | 0.11313103964990251 | 0.11472367670472444 | 0.32909742620452437 | 0.21576681736524406\n"
   ]
  },
  {
   "cell_type": "code",
   "execution_count": 88,
   "id": "passing-future",
   "metadata": {},
   "outputs": [
    {
     "data": {
      "text/plain": [
       "1.0"
      ]
     },
     "execution_count": 88,
     "metadata": {},
     "output_type": "execute_result"
    }
   ],
   "source": [
    "sum([sum1, sum2, sum3, sum4, sum5, sum6])"
   ]
  },
  {
   "cell_type": "markdown",
   "id": "formal-springfield",
   "metadata": {},
   "source": [
    "### Zero Memory\n",
    "\n",
    "|  | $17 $ | $ 18 $ | $ 19 $ |$ 20 $ | $ 21 $ | $ >21 $ \n",
    "| :-: | :-: | :-: | :-: | :-: | :-: | :-: | \n",
    "|$D$ = 1|0.13853324706661213 | 0.13557625054021205 | 0.12959686209249507 | 0.12318045055860413 | 0.17165838918106313 | 0.3014548005610004\n",
    "|$D$ = 2| 0.13389323624407973 | 0.12883065521759768 | 0.1260741786224704 | 0.12040621085972823 | 0.11433079465779937 | 0.3764649243983222\n",
    "|$D$ = 3| 0.12837581599698272 | 0.12541720014374658 | 0.12044133296672851 | 0.11732714721750172 | 0.11163452039002349 |0.39680398328501354\n",
    "|$D$ = 4| 0.12604716704099472 | 0.1119239390019091 | 0.11587961410428384 | 0.1125499175834215 | 0.10940280936099833 | 0.42419655290839475\n",
    "|$D$ = 5| 0.11836031977506437 | 0.1181926216768421 | 0.11331006273683414 | 0.09917874602838665 | 0.10277064578182889 | 0.4481876040010462\n",
    "|$D$ = 6| 0.16660540908326865 | 0.10674332959738149 | 0.10622833250808146 | 0.10138349222335077 | 0.09649745705994037 |0.42254197952797856\n",
    "|$D$ = 7| 0.3738770616642109 | 0.13846232675833037 | 0.07823470011427316 | 0.07808496034928418 | 0.0736038707074383 | 0.2577370804064635\n",
    "|$D$ = 8| 0.13081526038571548 | 0.36457150798279353 | 0.12927739033573496 | 0.06905922386884035 | 0.0689196862556933 | 0.23735693117122297\n",
    "|$D$ = 9| 0.12338003684683549 | 0.1037721937095806 | 0.35867415449389434 | 0.12184216679685489 | 0.0617446175887824 | 0.23058683056405277\n",
    "|$D$ = 10| 0.11440694325797474 | 0.11440694325797474 | 0.11440694325797474 | 0.33009321776777867 | 0.11440694325797483 | 0.21227900920032267\n",
    "|$D$ = 11| 0.11440694325797474 | 0.11440694325797474 | 0.11440694325797474 | 0.11440694325797474 | 0.33009321776777867 | 0.21227900920032267\n",
    "\n"
   ]
  },
  {
   "cell_type": "code",
   "execution_count": 10,
   "id": "smooth-shaft",
   "metadata": {},
   "outputs": [
    {
     "name": "stderr",
     "output_type": "stream",
     "text": [
      "<string>:6: VisibleDeprecationWarning: Creating an ndarray from ragged nested sequences (which is a list-or-tuple of lists-or-tuples-or ndarrays with different lengths or shapes) is deprecated. If you meant to do this, you must specify 'dtype=object' when creating the ndarray\n"
     ]
    }
   ],
   "source": [
    "total_counter = 0\n",
    "start_card = 6\n",
    "theDeck = Deck()\n",
    "for i in range(int(1e6)):\n",
    "    sum_card = start_card\n",
    "    theDeck.reset()\n",
    "    while(sum_card<17): \n",
    "        the_card = theDeck.pop() \n",
    "        if int(the_card[0]) == 1 and sum_card + 11 <= 21:\n",
    "            sum_card += 11\n",
    "        else:\n",
    "            sum_card += int(the_card[0])\n",
    "    if sum_card == 17:\n",
    "        total_counter += 1"
   ]
  },
  {
   "cell_type": "code",
   "execution_count": 11,
   "id": "fatal-religious",
   "metadata": {},
   "outputs": [
    {
     "data": {
      "text/plain": [
       "167951"
      ]
     },
     "execution_count": 11,
     "metadata": {},
     "output_type": "execute_result"
    }
   ],
   "source": [
    "total_counter"
   ]
  },
  {
   "cell_type": "code",
   "execution_count": null,
   "id": "circular-hughes",
   "metadata": {},
   "outputs": [],
   "source": []
  }
 ],
 "metadata": {
  "kernelspec": {
   "display_name": "Python 3",
   "language": "python",
   "name": "python3"
  },
  "language_info": {
   "codemirror_mode": {
    "name": "ipython",
    "version": 3
   },
   "file_extension": ".py",
   "mimetype": "text/x-python",
   "name": "python",
   "nbconvert_exporter": "python",
   "pygments_lexer": "ipython3",
   "version": "3.7.6"
  }
 },
 "nbformat": 4,
 "nbformat_minor": 5
}
